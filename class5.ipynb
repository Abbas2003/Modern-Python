{
 "cells": [
  {
   "cell_type": "markdown",
   "metadata": {},
   "source": [
    "# List\n",
    "* iteration operation with loop\n",
    "* apply any operation on element"
   ]
  },
  {
   "cell_type": "code",
   "execution_count": 2,
   "metadata": {},
   "outputs": [
    {
     "name": "stdout",
     "output_type": "stream",
     "text": [
      "Sir Zia\n",
      "Muhammad Qasim\n",
      "DR Noman\n"
     ]
    }
   ],
   "source": [
    "names : list[str] = ['Sir Zia',\"Muhammad Qasim\",\"DR Noman\"]\n",
    "for name in names:\n",
    "    print(name)"
   ]
  },
  {
   "cell_type": "code",
   "execution_count": 3,
   "metadata": {},
   "outputs": [
    {
     "name": "stdout",
     "output_type": "stream",
     "text": [
      "Sir Zia\n",
      "Muhammad Qasim\n",
      "DR Noman\n"
     ]
    }
   ],
   "source": [
    "names = ['Sir Zia', \"Muhammad Qasim\", \"DR Noman\"]\n",
    "\n",
    "i:int = 0 # counter = 0\n",
    "\n",
    "while i<len(names): # names length =3\n",
    "    print(names[i])\n",
    "    i += 1"
   ]
  },
  {
   "cell_type": "code",
   "execution_count": 4,
   "metadata": {},
   "outputs": [
    {
     "name": "stdout",
     "output_type": "stream",
     "text": [
      "Welcome dear teacher Sir Zia\n",
      "Welcome dear teacher Muhammad Qasim\n",
      "Welcome dear teacher Dr Noman\n"
     ]
    }
   ],
   "source": [
    "names : list[str] = ['Sir Zia',\"Muhammad Qasim\",\"DR Noman\"]\n",
    "for name in names:\n",
    "    print(f\"Welcome dear teacher {name.title()}\")"
   ]
  },
  {
   "cell_type": "code",
   "execution_count": 7,
   "metadata": {},
   "outputs": [
    {
     "name": "stdout",
     "output_type": "stream",
     "text": [
      "Welcome dear teacher Dr Noman\n",
      "Gen AI Team\n",
      "\n",
      "Welcome dear teacher Muhammad Qasim\n",
      "Gen AI Team\n",
      "\n",
      "Welcome dear teacher Sir Zia\n",
      "Gen AI Team\n",
      "\n",
      "Outside of loop\n"
     ]
    }
   ],
   "source": [
    "names : list[str] = ['Sir Zia',\"Muhammad Qasim\",\"DR Noman\"]\n",
    "for name in names[::-1]:\n",
    "    print(f\"Welcome dear teacher {name.title()}\")\n",
    "\n",
    "    print(\"Gen AI Team\\n\")\n",
    "print(\"Outside of loop\")"
   ]
  },
  {
   "cell_type": "code",
   "execution_count": 9,
   "metadata": {},
   "outputs": [
    {
     "name": "stdout",
     "output_type": "stream",
     "text": [
      "('Abbas', 105)\n",
      "('Hamzah', 101)\n",
      "('Okasha', 102)\n"
     ]
    }
   ],
   "source": [
    "from typing import Tuple\n",
    "\n",
    "data_base : list[tuple[str,int]] = [(\"Abbas\",105),\n",
    "                                    (\"Hamzah\",101),\n",
    "                                    (\"Okasha\",102),]\n",
    "\n",
    "for row in data_base:\n",
    "    print(row)"
   ]
  },
  {
   "cell_type": "code",
   "execution_count": 12,
   "metadata": {},
   "outputs": [
    {
     "name": "stdout",
     "output_type": "stream",
     "text": [
      "User name: Abbas & Password: 105\n",
      "User name: Hamzah & Password: 101\n",
      "User name: Okasha & Password: 102\n"
     ]
    }
   ],
   "source": [
    "data_base : list[tuple[str,int]] = [(\"Abbas\",105),\n",
    "                                    (\"Hamzah\",101),\n",
    "                                    (\"Okasha\",102),]\n",
    "\n",
    "for row in data_base:\n",
    "    user , password = row\n",
    "    print(f'User name: {user} & Password: {password}')"
   ]
  },
  {
   "cell_type": "code",
   "execution_count": 16,
   "metadata": {},
   "outputs": [
    {
     "name": "stdout",
     "output_type": "stream",
     "text": [
      "Welcome ABBAS!\n"
     ]
    }
   ],
   "source": [
    "data_base : list[tuple[str,int]] = [(\"Abbas\",105),\n",
    "                                    (\"Hamzah\",101),\n",
    "                                    (\"Okasha\",102),]\n",
    "input_user : str = input(\"Enter user name: \")\n",
    "input_password : int = int(input(\"Enter user password: \"))\n",
    "\n",
    "for row in data_base:\n",
    "    user , password = row\n",
    "    if input_user == user and  input_password == password:\n",
    "        print(f\"Welcome {input_user.upper()}!\")\n",
    "        break\n",
    "else:\n",
    "    print(\"Invalid user or password\")"
   ]
  },
  {
   "cell_type": "code",
   "execution_count": 17,
   "metadata": {},
   "outputs": [
    {
     "name": "stdout",
     "output_type": "stream",
     "text": [
      "Alice, that was a great trick!\n",
      "David, that was a great trick!\n",
      "Carolina, that was a great trick!\n",
      "I can't wait to see your next trick, Carolina.\n",
      "\n"
     ]
    }
   ],
   "source": [
    "magicians = ['alice', 'david', 'carolina']\n",
    "for magician in magicians:\n",
    "    print(f\"{magician.title()}, that was a great trick!\")\n",
    "# Here the local variable is accessing outside of the box\n",
    "\n",
    "\n",
    "print(f\"I can't wait to see your next trick, {magician.title()}.\\n\")"
   ]
  },
  {
   "cell_type": "code",
   "execution_count": 23,
   "metadata": {},
   "outputs": [
    {
     "data": {
      "text/plain": [
       "[(0, 'alice'), (1, 'david'), (2, 'carolina')]"
      ]
     },
     "execution_count": 23,
     "metadata": {},
     "output_type": "execute_result"
    }
   ],
   "source": [
    "#              0        1         2\n",
    "magicians = ['alice', 'david', 'carolina']\n",
    "\n",
    "list(enumerate(magicians))"
   ]
  },
  {
   "cell_type": "code",
   "execution_count": 24,
   "metadata": {},
   "outputs": [
    {
     "name": "stdout",
     "output_type": "stream",
     "text": [
      "0 alice\n",
      "1 david\n",
      "2 carolina\n"
     ]
    }
   ],
   "source": [
    "#              0        1         2\n",
    "magicians = ['alice', 'david', 'carolina']\n",
    "\n",
    "for index, name in enumerate(magicians):\n",
    "    print(index, name)"
   ]
  },
  {
   "cell_type": "markdown",
   "metadata": {},
   "source": [
    "# Numbers with loop\n",
    "* range(start, end, step)"
   ]
  },
  {
   "cell_type": "code",
   "execution_count": 18,
   "metadata": {},
   "outputs": [
    {
     "data": {
      "text/plain": [
       "range(0, 10)"
      ]
     },
     "execution_count": 18,
     "metadata": {},
     "output_type": "execute_result"
    }
   ],
   "source": [
    "range(10)"
   ]
  },
  {
   "cell_type": "code",
   "execution_count": 20,
   "metadata": {},
   "outputs": [
    {
     "data": {
      "text/plain": [
       "[2, 3, 4, 5, 6, 7, 8, 9]"
      ]
     },
     "execution_count": 20,
     "metadata": {},
     "output_type": "execute_result"
    }
   ],
   "source": [
    "list(range(10)) # starting 0 , ending = n-1\n"
   ]
  },
  {
   "cell_type": "code",
   "execution_count": 21,
   "metadata": {},
   "outputs": [
    {
     "data": {
      "text/plain": [
       "[2, 3, 4, 5, 6, 7, 8, 9]"
      ]
     },
     "execution_count": 21,
     "metadata": {},
     "output_type": "execute_result"
    }
   ],
   "source": [
    "list(range(2,10)) # starting 2 , ending = n-1"
   ]
  },
  {
   "cell_type": "code",
   "execution_count": 22,
   "metadata": {},
   "outputs": [
    {
     "data": {
      "text/plain": [
       "[2, 4, 6, 8, 10, 12, 14, 16, 18, 20]"
      ]
     },
     "execution_count": 22,
     "metadata": {},
     "output_type": "execute_result"
    }
   ],
   "source": [
    "list(range(2,21,2)) # starting 2 , ending = n-1 , step "
   ]
  },
  {
   "cell_type": "code",
   "execution_count": 25,
   "metadata": {},
   "outputs": [
    {
     "name": "stdout",
     "output_type": "stream",
     "text": [
      "2 x 1 = 2\n",
      "2 x 2 = 4\n",
      "2 x 3 = 6\n",
      "2 x 4 = 8\n",
      "2 x 5 = 10\n",
      "2 x 6 = 12\n",
      "2 x 7 = 14\n",
      "2 x 8 = 16\n",
      "2 x 9 = 18\n",
      "2 x 10 = 20\n"
     ]
    }
   ],
   "source": [
    "for n in range(1,11):\n",
    "    print(f'2 x {n} = {2*n}')"
   ]
  },
  {
   "cell_type": "code",
   "execution_count": 26,
   "metadata": {},
   "outputs": [
    {
     "name": "stdout",
     "output_type": "stream",
     "text": [
      "[1, 4, 9, 16, 25, 36, 49, 64, 81, 100]\n"
     ]
    }
   ],
   "source": [
    "squares:list[int] = []\n",
    "for value in range(1, 11):\n",
    "    square = value ** 2\n",
    "    squares.append(square)\n",
    "print(squares)"
   ]
  },
  {
   "cell_type": "markdown",
   "metadata": {},
   "source": [
    "# List Comprehensive\n",
    "```\n",
    "for item in list_items:\n",
    "    loop_body\n",
    "```\n",
    "\n",
    "### Comprehensive style\n",
    "```\n",
    "[loop_body for item in list_items]\n",
    "  \n",
    "```\n"
   ]
  },
  {
   "cell_type": "code",
   "execution_count": 27,
   "metadata": {},
   "outputs": [
    {
     "name": "stdout",
     "output_type": "stream",
     "text": [
      "1\n",
      "4\n",
      "9\n",
      "16\n",
      "25\n",
      "36\n",
      "49\n",
      "64\n",
      "81\n",
      "100\n"
     ]
    }
   ],
   "source": [
    "for i in range(1,11):\n",
    "    print(i**2)"
   ]
  },
  {
   "cell_type": "code",
   "execution_count": 28,
   "metadata": {},
   "outputs": [
    {
     "data": {
      "text/plain": [
       "[1, 4, 9, 16, 25, 36, 49, 64, 81, 100]"
      ]
     },
     "execution_count": 28,
     "metadata": {},
     "output_type": "execute_result"
    }
   ],
   "source": [
    "[i**2 for i in range(1,11)]"
   ]
  },
  {
   "cell_type": "code",
   "execution_count": 29,
   "metadata": {},
   "outputs": [
    {
     "name": "stdout",
     "output_type": "stream",
     "text": [
      "[1, 2, 3, 4, 5, 6, 7, 8, 9, 0]\n",
      "9\n",
      "0\n",
      "45\n"
     ]
    }
   ],
   "source": [
    "digits:list[int] = [1, 2, 3, 4, 5, 6, 7, 8, 9, 0]\n",
    "\n",
    "print(digits)\n",
    "print(max(digits))\n",
    "print(min(digits))\n",
    "print(sum(digits))"
   ]
  },
  {
   "cell_type": "markdown",
   "metadata": {},
   "source": [
    "# Tuples\n",
    "* immutable -> Not editable"
   ]
  },
  {
   "cell_type": "code",
   "execution_count": 35,
   "metadata": {},
   "outputs": [
    {
     "name": "stdout",
     "output_type": "stream",
     "text": [
      "('A', 'B')\n"
     ]
    }
   ],
   "source": [
    "names: tuple[str] = ('A','B','C')\n",
    "print(names[0:2])\n",
    "# name[0] = \"X\"  # error: cannot change"
   ]
  },
  {
   "cell_type": "code",
   "execution_count": 37,
   "metadata": {},
   "outputs": [
    {
     "data": {
      "text/plain": [
       "('Karachi', 'B', 'C')"
      ]
     },
     "execution_count": 37,
     "metadata": {},
     "output_type": "execute_result"
    }
   ],
   "source": [
    "names: tuple[str] = ('A','B','C')\n",
    "names: tuple[str] = ('Karachi','B','C')\n",
    "names"
   ]
  },
  {
   "cell_type": "code",
   "execution_count": 40,
   "metadata": {},
   "outputs": [
    {
     "name": "stdout",
     "output_type": "stream",
     "text": [
      "('A', [1, 2, 3, 4], True)\n"
     ]
    }
   ],
   "source": [
    "from typing import Any\n",
    "data : tuple[Any] = (\"A\", [1,2,3], True)\n",
    "data[1].append(4)\n",
    "print(data)"
   ]
  }
 ],
 "metadata": {
  "kernelspec": {
   "display_name": "python12",
   "language": "python",
   "name": "python3"
  },
  "language_info": {
   "codemirror_mode": {
    "name": "ipython",
    "version": 3
   },
   "file_extension": ".py",
   "mimetype": "text/x-python",
   "name": "python",
   "nbconvert_exporter": "python",
   "pygments_lexer": "ipython3",
   "version": "3.12.0"
  }
 },
 "nbformat": 4,
 "nbformat_minor": 2
}
