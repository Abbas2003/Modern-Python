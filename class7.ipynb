{
 "cells": [
  {
   "cell_type": "markdown",
   "metadata": {},
   "source": [
    "# List\n",
    "*                    0                1           2\n",
    "* data : list[str] = [\"Aftab Ahmed\", \"Mohammad Abbas\", \"BSCS\"]\n",
    "* print(data[0])"
   ]
  },
  {
   "cell_type": "markdown",
   "metadata": {},
   "source": [
    "# Dictionary\n",
    "* Key: value pair\n",
    "    * Key = replacement of indexes\n",
    "    * Value = item\n",
    "\n",
    "### How to access values?\n",
    "* dict_variable[key]\n",
    "    * dict_variable[new_key] = new_value\n",
    "        * Add new value\n",
    "        * Update value"
   ]
  },
  {
   "cell_type": "code",
   "execution_count": 9,
   "metadata": {},
   "outputs": [
    {
     "name": "stdout",
     "output_type": "stream",
     "text": [
      "{1, 2, 3, 7}\n"
     ]
    },
    {
     "ename": "TypeError",
     "evalue": "'set' object is not subscriptable",
     "output_type": "error",
     "traceback": [
      "\u001b[1;31m---------------------------------------------------------------------------\u001b[0m",
      "\u001b[1;31mTypeError\u001b[0m                                 Traceback (most recent call last)",
      "\u001b[1;32me:\\Modern Python\\class7.ipynb Cell 3\u001b[0m line \u001b[0;36m4\n\u001b[0;32m      <a href='vscode-notebook-cell:/e%3A/Modern%20Python/class7.ipynb#X11sZmlsZQ%3D%3D?line=1'>2</a>\u001b[0m data : \u001b[39mset\u001b[39m \u001b[39m=\u001b[39m {\u001b[39m7\u001b[39m,\u001b[39m1\u001b[39m,\u001b[39m2\u001b[39m,\u001b[39m1\u001b[39m,\u001b[39m1\u001b[39m,\u001b[39m1\u001b[39m,\u001b[39m1\u001b[39m,\u001b[39m3\u001b[39m,\u001b[39m2\u001b[39m}\n\u001b[0;32m      <a href='vscode-notebook-cell:/e%3A/Modern%20Python/class7.ipynb#X11sZmlsZQ%3D%3D?line=2'>3</a>\u001b[0m \u001b[39mprint\u001b[39m(data) \u001b[39m# return unique\u001b[39;00m\n\u001b[1;32m----> <a href='vscode-notebook-cell:/e%3A/Modern%20Python/class7.ipynb#X11sZmlsZQ%3D%3D?line=3'>4</a>\u001b[0m \u001b[39mprint\u001b[39m(data[\u001b[39m0\u001b[39;49m]) \u001b[39m# Error\u001b[39;00m\n",
      "\u001b[1;31mTypeError\u001b[0m: 'set' object is not subscriptable"
     ]
    }
   ],
   "source": [
    "# Sets example\n",
    "data : set = {7,1,2,1,1,1,1,3,2}\n",
    "print(data) # return unique, ordered\n",
    "print(data[0]) # Error"
   ]
  },
  {
   "cell_type": "code",
   "execution_count": 2,
   "metadata": {},
   "outputs": [
    {
     "data": {
      "text/plain": [
       "{'Father Name': 'Aftab Ahmed', 'Name': 'Mohammad Abbas', 'Education': 'BSCS'}"
      ]
     },
     "metadata": {},
     "output_type": "display_data"
    },
    {
     "name": "stdout",
     "output_type": "stream",
     "text": [
      "{'Education': 'BSCS', 'Father Name': 'Aftab Ahmed', 'Name': 'Mohammad Abbas'}\n"
     ]
    }
   ],
   "source": [
    "from typing import Dict\n",
    "import pprint\n",
    "data : Dict[str, str] = {\"Father Name\": \"Aftab Ahmed\",\n",
    "                         \"Name\": \"Mohammad Abbas\",\n",
    "                         \"Education\": \"BSCS\"}\n",
    "\n",
    "pprint.pprint(data)"
   ]
  },
  {
   "cell_type": "code",
   "execution_count": 5,
   "metadata": {},
   "outputs": [
    {
     "name": "stdout",
     "output_type": "stream",
     "text": [
      "{'Education': 'BSCS', 'Father Name': 'Aftab Ahmed', 'Name': 'Mohammad Abbas'}\n",
      "Mohammad Abbas\n",
      "Aftab Ahmed\n",
      "BSCS\n"
     ]
    }
   ],
   "source": [
    "from typing import Dict, Union\n",
    "import pprint\n",
    "\n",
    "Key = Union[int,str] # Create custom type\n",
    "Value = Union[int,str,list,dict,tuple,set] \n",
    "\n",
    "data : Dict[str, str] = {\"Father Name\": \"Aftab Ahmed\",\n",
    "                         \"Name\": \"Mohammad Abbas\",\n",
    "                         \"Education\": \"BSCS\"}\n",
    "\n",
    "pprint.pprint(data)\n",
    "print(data[\"Name\"])\n",
    "print(data[\"Father Name\"])\n",
    "print(data[\"Education\"])"
   ]
  },
  {
   "cell_type": "code",
   "execution_count": 8,
   "metadata": {},
   "outputs": [
    {
     "name": "stdout",
     "output_type": "stream",
     "text": [
      "{0: 'SMIU',\n",
      " 'Education': 'BSCS',\n",
      " 'Father Name': 'Aftab Ahmed',\n",
      " 'Name': 'Mohammad Abbas'}\n",
      "BSCS\n",
      "SMIU\n"
     ]
    }
   ],
   "source": [
    "from typing import Dict, Union\n",
    "import pprint\n",
    "\n",
    "Key = Union[int,str] # Create custom type\n",
    "Value = Union[int,str,list,dict,tuple,set] \n",
    "\n",
    "data : Dict[str, str] = {\"Father Name\": \"Aftab Ahmed\",\n",
    "                         \"Name\": \"Mohammad Abbas\",\n",
    "                         \"Education\": \"BSCS\",\n",
    "                         0 : \"SMIU\"}\n",
    "\n",
    "pprint.pprint(data)\n",
    "print(data[\"Education\"])\n",
    "print(data[0])"
   ]
  },
  {
   "cell_type": "code",
   "execution_count": 10,
   "metadata": {},
   "outputs": [
    {
     "name": "stdout",
     "output_type": "stream",
     "text": [
      "{'Dict': {1: 'A', 2: 'B', 3: 'C'},\n",
      " 'Education': 'BSCS',\n",
      " 'Father Name': 'Aftab Ahmed',\n",
      " 'Name': 'Mohammad Abbas',\n",
      " 'Set': {1, 2, 3},\n",
      " 'Tuple': (1, 2, 3),\n",
      " 'list': [1, 2, 3]}\n"
     ]
    }
   ],
   "source": [
    "from typing import Dict, Union\n",
    "import pprint\n",
    "\n",
    "Key = Union[int,str] # Create custom type\n",
    "Value = Union[int,str,list,dict,tuple,set] \n",
    "\n",
    "data : Dict[str, str] = {\"Father Name\": \"Aftab Ahmed\",\n",
    "                         \"Name\": \"Mohammad Abbas\",\n",
    "                         \"Education\": \"BSCS\",\n",
    "                         \"list\": [1,2,3],\n",
    "                         \"Tuple\": (1,2,3),\n",
    "                         \"Set\": {1,2,3},\n",
    "                         \"Dict\": {1: \"A\",2: \"B\",3: \"C\"},\n",
    "                        #  [0,1,2] : \"PK\",  # Error\n",
    "                        #  (0,1,2) : \"PK\",  # Error\n",
    "                        #  {0,1,2} : \"PK\",  # Error\n",
    "                         } \n",
    "\n",
    "\n",
    "pprint.pprint(data)"
   ]
  },
  {
   "cell_type": "code",
   "execution_count": 14,
   "metadata": {},
   "outputs": [
    {
     "data": {
      "text/plain": [
       "'A'"
      ]
     },
     "execution_count": 14,
     "metadata": {},
     "output_type": "execute_result"
    }
   ],
   "source": [
    "from typing import Dict, Union\n",
    "import pprint\n",
    "\n",
    "Key = Union[int,str] # Create custom type\n",
    "Value = Union[int,str,list,dict,tuple,set] \n",
    "\n",
    "data : Dict[str, str] = {\"Father Name\": \"Aftab Ahmed\",\n",
    "                         \"Name\": \"Mohammad Abbas\",\n",
    "                         \"Education\": \"BSCS\",\n",
    "                         \"list\": [1,2,3],\n",
    "                         \"Tuple\": (1,2,3),\n",
    "                         \"Set\": {1,2,3},\n",
    "                         \"Dict\": {1: \"A\",2: \"B\",3: \"C\"}\n",
    "                         } \n",
    "\n",
    "data['Dict'][1]"
   ]
  },
  {
   "cell_type": "code",
   "execution_count": 16,
   "metadata": {},
   "outputs": [
    {
     "name": "stdout",
     "output_type": "stream",
     "text": [
      "{'Name': 'M.Abbas', 'Education': 'BSCS', 'Gender': 'Male'}\n"
     ]
    }
   ],
   "source": [
    "from typing import Dict, Union\n",
    "import pprint\n",
    "\n",
    "Key = Union[int,str] # Create custom type\n",
    "Value = Union[int,str,list,dict,tuple,set] \n",
    "\n",
    "data : dict[Key,Value] = {}\n",
    "# Pushing key values in empty dict\n",
    "data['Name'] = \"M.Abbas\"\n",
    "data['Education'] = \"BSCS\"\n",
    "data['Gender'] = \"Male\"\n",
    "\n",
    "print(data)"
   ]
  },
  {
   "cell_type": "code",
   "execution_count": 19,
   "metadata": {},
   "outputs": [
    {
     "name": "stdout",
     "output_type": "stream",
     "text": [
      "Before {'Name': 'M.Abbas', 'Education': 'BSCS', 'Gender': 'Male'}\n",
      "After {'Name': 'Abbas', 'Education': 'BSCS', 'Gender': 'Male', 'Full Name': 'Mohammad Abbas'}\n"
     ]
    }
   ],
   "source": [
    "from typing import Dict, Union\n",
    "import pprint\n",
    "\n",
    "Key = Union[int,str] # Create custom type\n",
    "Value = Union[int,str,list,dict,tuple,set] \n",
    "\n",
    "data : dict[Key,Value] = {'Name': 'M.Abbas', 'Education': 'BSCS', 'Gender': 'Male'}\n",
    "# Updating values in dict\n",
    "print(\"Before\",data)\n",
    "\n",
    "data['Name'] = \"Abbas\" # Updates value\n",
    "data['Full Name'] = \"Mohammad Abbas\" # Inserts new key and value\n",
    "print(\"After\",data)"
   ]
  },
  {
   "cell_type": "code",
   "execution_count": 22,
   "metadata": {},
   "outputs": [
    {
     "name": "stdout",
     "output_type": "stream",
     "text": [
      "Dictionary Methods: \n"
     ]
    },
    {
     "data": {
      "text/plain": [
       "['clear',\n",
       " 'copy',\n",
       " 'fromkeys',\n",
       " 'get',\n",
       " 'items',\n",
       " 'keys',\n",
       " 'pop',\n",
       " 'popitem',\n",
       " 'setdefault',\n",
       " 'update',\n",
       " 'values']"
      ]
     },
     "execution_count": 22,
     "metadata": {},
     "output_type": "execute_result"
    }
   ],
   "source": [
    "print(\"Dictionary Methods: \")\n",
    "[i for i in dir(dict) if \"__\" not in i]"
   ]
  },
  {
   "cell_type": "code",
   "execution_count": 25,
   "metadata": {},
   "outputs": [
    {
     "name": "stdout",
     "output_type": "stream",
     "text": [
      "NA\n",
      "M.Abbas\n"
     ]
    }
   ],
   "source": [
    "from typing import Dict, Union, Optional\n",
    "import pprint\n",
    "\n",
    "\n",
    "Key = Union[int,str] # create custom type\n",
    "Value = Union[int, str, list, dict, tuple, set]\n",
    "\n",
    "data : Dict[Key,Value] = {\n",
    "                        'Name': 'M.Abbas', \n",
    "                        'Education': 'BSCS',\n",
    "                        'Gender': 'Male'\n",
    "                        }\n",
    "\n",
    "# print(data['pakistan']) # Error\n",
    "#                 key\n",
    "print(data.get('pakistan',\"NA\"))\n",
    "print(data.get('Name',\"NA\"))\n"
   ]
  },
  {
   "cell_type": "code",
   "execution_count": 26,
   "metadata": {},
   "outputs": [
    {
     "name": "stdout",
     "output_type": "stream",
     "text": [
      "Name\n",
      "Education\n",
      "Gender\n"
     ]
    }
   ],
   "source": [
    "from typing import Dict, Union, Optional\n",
    "import pprint\n",
    "\n",
    "\n",
    "Key = Union[int,str] # create custom type\n",
    "Value = Union[int, str, list, dict, tuple, set]\n",
    "\n",
    "data : Dict[Key,Value] = {\n",
    "                        'Name': 'M.Abbas', \n",
    "                        'Education': 'BSCS',\n",
    "                        'Gender': 'Male'\n",
    "                        }\n",
    "\n",
    "for d in data:\n",
    "    print(d) # Keys only"
   ]
  },
  {
   "cell_type": "code",
   "execution_count": 30,
   "metadata": {},
   "outputs": [
    {
     "name": "stdout",
     "output_type": "stream",
     "text": [
      "dict_keys(['Name', 'Education', 'Gender'])\n",
      "dict_values(['M.Abbas', 'BSCS', 'Male'])\n",
      "dict_items([('Name', 'M.Abbas'), ('Education', 'BSCS'), ('Gender', 'Male')])\n",
      "Name\n",
      "Education\n",
      "Gender\n"
     ]
    }
   ],
   "source": [
    "from typing import Dict, Union, Optional\n",
    "import pprint\n",
    "\n",
    "\n",
    "Key = Union[int,str] # create custom type\n",
    "Value = Union[int, str, list, dict, tuple, set]\n",
    "\n",
    "data : Dict[Key,Value] = {\n",
    "                        'Name': 'M.Abbas', \n",
    "                        'Education': 'BSCS',\n",
    "                        'Gender': 'Male'\n",
    "                        }\n",
    "print(data.keys()) # keys\n",
    "print(data.values()) # values\n",
    "print(data.items()) # complete key and value pairs\n",
    "\n",
    "# Keys\n",
    "for k in data.keys():\n",
    "    print(k)\n"
   ]
  },
  {
   "cell_type": "code",
   "execution_count": 29,
   "metadata": {},
   "outputs": [
    {
     "name": "stdout",
     "output_type": "stream",
     "text": [
      "M.Abbas\n",
      "BSCS\n",
      "Male\n"
     ]
    }
   ],
   "source": [
    "from typing import Dict, Union, Optional\n",
    "import pprint\n",
    "\n",
    "\n",
    "Key = Union[int,str] # create custom type\n",
    "Value = Union[int, str, list, dict, tuple, set]\n",
    "\n",
    "data : Dict[Key,Value] = {\n",
    "                        'Name': 'M.Abbas', \n",
    "                        'Education': 'BSCS',\n",
    "                        'Gender': 'Male'\n",
    "                        }\n",
    "# Values\n",
    "for v in data.values():\n",
    "    print(v)\n"
   ]
  },
  {
   "cell_type": "code",
   "execution_count": 31,
   "metadata": {},
   "outputs": [
    {
     "name": "stdout",
     "output_type": "stream",
     "text": [
      "Name M.Abbas\n",
      "Education BSCS\n",
      "Gender Male\n"
     ]
    }
   ],
   "source": [
    "from typing import Dict, Union, Optional\n",
    "import pprint\n",
    "\n",
    "\n",
    "Key = Union[int,str] # create custom type\n",
    "Value = Union[int, str, list, dict, tuple, set]\n",
    "\n",
    "data : Dict[Key,Value] = {\n",
    "                        'Name': 'M.Abbas', \n",
    "                        'Education': 'BSCS',\n",
    "                        'Gender': 'Male'\n",
    "                        }\n",
    "# Values\n",
    "for k,v in data.items():\n",
    "    print(k,v)"
   ]
  },
  {
   "cell_type": "markdown",
   "metadata": {},
   "source": [
    "## Comprehensive dict"
   ]
  },
  {
   "cell_type": "code",
   "execution_count": 33,
   "metadata": {},
   "outputs": [
    {
     "name": "stdout",
     "output_type": "stream",
     "text": [
      "Dictionary comprehensive\n"
     ]
    },
    {
     "data": {
      "text/plain": [
       "{'Name': 'M.Abbas', 'Education': 'BSCS', 'Gender': 'Male'}"
      ]
     },
     "execution_count": 33,
     "metadata": {},
     "output_type": "execute_result"
    }
   ],
   "source": [
    "print(\"Dictionary comprehensive\")\n",
    "{k:v for k,v in data.items()}"
   ]
  },
  {
   "cell_type": "code",
   "execution_count": 36,
   "metadata": {},
   "outputs": [
    {
     "name": "stdout",
     "output_type": "stream",
     "text": [
      "{}\n",
      "{'id': None, 'name': None, 'fname': None, 'courses': None}\n"
     ]
    }
   ],
   "source": [
    "keys : list[str] = ['id', 'name', 'fname', 'courses']\n",
    "\n",
    "data : dict[Key,Value] = {}\n",
    "print(data) # Empty dict\n",
    "\n",
    "data = data.fromkeys(keys) # in-line\n",
    "print(data)"
   ]
  },
  {
   "cell_type": "code",
   "execution_count": 37,
   "metadata": {},
   "outputs": [
    {
     "name": "stdout",
     "output_type": "stream",
     "text": [
      "Before {'Name': 'M.Abbas', 'Education': 'BSCS', 'Gender': 'Male'}\n",
      "After {}\n"
     ]
    }
   ],
   "source": [
    "from typing import Dict, Union, Optional\n",
    "import pprint\n",
    "\n",
    "\n",
    "Key = Union[int,str] # create custom type\n",
    "Value = Union[int, str, list, dict, tuple, set]\n",
    "\n",
    "data : Dict[Key,Value] = {\n",
    "                        'Name': 'M.Abbas', \n",
    "                        'Education': 'BSCS',\n",
    "                        'Gender': 'Male'\n",
    "                        }\n",
    "print(\"Before\", data)\n",
    "\n",
    "data.clear() # Clears the dict completely\n",
    "print(\"After\", data)"
   ]
  },
  {
   "cell_type": "code",
   "execution_count": 39,
   "metadata": {},
   "outputs": [
    {
     "name": "stdout",
     "output_type": "stream",
     "text": [
      "Before {'Name': 'M.Abbas', 'Education': 'BSCS', 'Gender': 'Male'}\n"
     ]
    }
   ],
   "source": [
    "from typing import Dict, Union, Optional\n",
    "import pprint\n",
    "\n",
    "\n",
    "Key = Union[int,str] # create custom type\n",
    "Value = Union[int, str, list, dict, tuple, set]\n",
    "\n",
    "data : Dict[Key,Value] = {\n",
    "                        'Name': 'M.Abbas', \n",
    "                        'Education': 'BSCS',\n",
    "                        'Gender': 'Male'\n",
    "                        }\n",
    "print(\"Before\", data)\n",
    "\n",
    "del data # Deletes the complete object of dict\n",
    "# print(\"After\", data) # Error, because no more exist"
   ]
  },
  {
   "cell_type": "code",
   "execution_count": 42,
   "metadata": {},
   "outputs": [
    {
     "name": "stdout",
     "output_type": "stream",
     "text": [
      "Before {'Name': 'M.Abbas', 'Education': 'BSCS', 'Gender': 'Male'}\n",
      "After {'Name': 'M.Abbas', 'Education': 'BSCS'}\n",
      "Pop item:  Male\n"
     ]
    }
   ],
   "source": [
    "from typing import Dict, Union, Optional\n",
    "import pprint\n",
    "\n",
    "\n",
    "Key = Union[int,str] # create custom type\n",
    "Value = Union[int, str, list, dict, tuple, set]\n",
    "\n",
    "data : Dict[Key,Value] = {\n",
    "                        'Name': 'M.Abbas', \n",
    "                        'Education': 'BSCS',\n",
    "                        'Gender': 'Male'\n",
    "                        }\n",
    "print(\"Before\", data)\n",
    "\n",
    "a : str = data.pop(\"Gender\") # Removes key, returns the value\n",
    "print(\"After\", data) \n",
    "print(\"Pop item: \",a)"
   ]
  },
  {
   "cell_type": "code",
   "execution_count": 44,
   "metadata": {},
   "outputs": [
    {
     "name": "stdout",
     "output_type": "stream",
     "text": [
      "Before {'Name': 'M.Abbas', 'Education': 'BSCS', 'Gender': 'Male'}\n",
      "After {'Name': 'M.Abbas', 'Education': 'BSCS'}\n",
      "Pop item:  ('Gender', 'Male')\n"
     ]
    }
   ],
   "source": [
    "from typing import Dict, Union, Optional\n",
    "import pprint\n",
    "\n",
    "\n",
    "Key = Union[int,str] # create custom type\n",
    "Value = Union[int, str, list, dict, tuple, set]\n",
    "\n",
    "data : Dict[Key,Value] = {\n",
    "                        'Name': 'M.Abbas', \n",
    "                        'Education': 'BSCS',\n",
    "                        'Gender': 'Male'\n",
    "                        }\n",
    "print(\"Before\", data)\n",
    "\n",
    "a : str = data.popitem() # Removes last key,value\n",
    "print(\"After\", data) \n",
    "print(\"Pop item: \",a)"
   ]
  },
  {
   "cell_type": "code",
   "execution_count": 46,
   "metadata": {},
   "outputs": [
    {
     "name": "stdout",
     "output_type": "stream",
     "text": [
      "Before {'Name': 'M.Abbas', 'Education': 'BSCS', 'Gender': 'Male'}\n",
      "NA\n",
      "After {'Name': 'M.Abbas', 'Education': 'BSCS', 'Gender': 'Male'}\n"
     ]
    }
   ],
   "source": [
    "from typing import Dict, Union, Optional\n",
    "import pprint\n",
    "\n",
    "\n",
    "Key = Union[int,str] # create custom type\n",
    "Value = Union[int, str, list, dict, tuple, set]\n",
    "\n",
    "data : Dict[Key,Value] = {\n",
    "                        'Name': 'M.Abbas', \n",
    "                        'Education': 'BSCS',\n",
    "                        'Gender': 'Male'\n",
    "                        }\n",
    "print(\"Before\", data)\n",
    "\n",
    "a : str = data.get(\"Pakistan\",\"NA\")\n",
    "print(a) # data not found\n",
    "print(\"After\", data) \n"
   ]
  },
  {
   "cell_type": "code",
   "execution_count": 48,
   "metadata": {},
   "outputs": [
    {
     "name": "stdout",
     "output_type": "stream",
     "text": [
      "Before {'Name': 'M.Abbas', 'Education': 'BSCS', 'Gender': 'Male'}\n",
      "karachi\n",
      "After {'Name': 'M.Abbas', 'Education': 'BSCS', 'Gender': 'Male', 'Pakistan': 'karachi'}\n"
     ]
    }
   ],
   "source": [
    "from typing import Dict, Union, Optional\n",
    "import pprint\n",
    "\n",
    "\n",
    "Key = Union[int,str] # create custom type\n",
    "Value = Union[int, str, list, dict, tuple, set]\n",
    "\n",
    "data : Dict[Key,Value] = {\n",
    "                        'Name': 'M.Abbas', \n",
    "                        'Education': 'BSCS',\n",
    "                        'Gender': 'Male'\n",
    "                        }\n",
    "print(\"Before\", data)\n",
    "\n",
    "a : str = data.setdefault(\"Pakistan\",\"karachi\")\n",
    "print(a) # returns the value of key\n",
    "\n",
    "print(\"After\", data) \n"
   ]
  },
  {
   "cell_type": "code",
   "execution_count": 50,
   "metadata": {},
   "outputs": [
    {
     "name": "stdout",
     "output_type": "stream",
     "text": [
      "Before Update {'Name': 'M.Abbas', 'Education': 'BSCS', 'Gender': 'Male'}\n",
      "After Update {'Name': 'abbas', 'Education': 'BSCS', 'Gender': 'Male', 'Age': 20, 'Height': 5.8}\n"
     ]
    }
   ],
   "source": [
    "from typing import Dict, Union, Optional\n",
    "import pprint\n",
    "\n",
    "\n",
    "Key = Union[int,str] # create custom type\n",
    "Value = Union[int, str, list, dict, tuple, set]\n",
    "\n",
    "data : Dict[Key,Value] = {\n",
    "                        'Name': 'M.Abbas', \n",
    "                        'Education': 'BSCS',\n",
    "                        'Gender': 'Male'\n",
    "                        }\n",
    "print(\"Before Update\", data)\n",
    "\n",
    "data1 : dict[Key,Value] = {\"Name\":\"abbas\",\n",
    "                           \"Age\":20,\n",
    "                           \"Height\":5.8\n",
    "                           }\n",
    "\n",
    "data.update(data1)\n",
    "print(\"After Update\", data)"
   ]
  },
  {
   "cell_type": "code",
   "execution_count": 55,
   "metadata": {},
   "outputs": [
    {
     "data": {
      "text/html": [
       "<div>\n",
       "<style scoped>\n",
       "    .dataframe tbody tr th:only-of-type {\n",
       "        vertical-align: middle;\n",
       "    }\n",
       "\n",
       "    .dataframe tbody tr th {\n",
       "        vertical-align: top;\n",
       "    }\n",
       "\n",
       "    .dataframe thead th {\n",
       "        text-align: right;\n",
       "    }\n",
       "</style>\n",
       "<table border=\"1\" class=\"dataframe\">\n",
       "  <thead>\n",
       "    <tr style=\"text-align: right;\">\n",
       "      <th></th>\n",
       "      <th>RollNo</th>\n",
       "      <th>Names</th>\n",
       "      <th>Gender</th>\n",
       "    </tr>\n",
       "  </thead>\n",
       "  <tbody>\n",
       "    <tr>\n",
       "      <th>0</th>\n",
       "      <td>1</td>\n",
       "      <td>Abbas</td>\n",
       "      <td>M</td>\n",
       "    </tr>\n",
       "    <tr>\n",
       "      <th>1</th>\n",
       "      <td>2</td>\n",
       "      <td>Sakina</td>\n",
       "      <td>F</td>\n",
       "    </tr>\n",
       "    <tr>\n",
       "      <th>2</th>\n",
       "      <td>3</td>\n",
       "      <td>Zia</td>\n",
       "      <td>M</td>\n",
       "    </tr>\n",
       "    <tr>\n",
       "      <th>3</th>\n",
       "      <td>4</td>\n",
       "      <td>Sualeha</td>\n",
       "      <td>F</td>\n",
       "    </tr>\n",
       "  </tbody>\n",
       "</table>\n",
       "</div>"
      ],
      "text/plain": [
       "   RollNo    Names Gender\n",
       "0       1    Abbas      M\n",
       "1       2   Sakina      F\n",
       "2       3      Zia      M\n",
       "3       4  Sualeha      F"
      ]
     },
     "execution_count": 55,
     "metadata": {},
     "output_type": "execute_result"
    }
   ],
   "source": [
    "import pandas as pd\n",
    "from typing import Any\n",
    "\n",
    "students_data : dict[str,list[Any]] = {\n",
    "    \"RollNo\": [1,2,3,4],\n",
    "    \"Names\": [\"Abbas\",\"Sakina\",\"Zia\",\"Sualeha\"],\n",
    "    \"Gender\": [\"M\",\"F\",\"M\",\"F\"]\n",
    "}\n",
    "\n",
    "df: pd.DataFrame = pd.DataFrame(students_data)\n",
    "df"
   ]
  },
  {
   "cell_type": "code",
   "execution_count": 59,
   "metadata": {},
   "outputs": [
    {
     "name": "stdout",
     "output_type": "stream",
     "text": [
      "Original position: 0\n",
      "New position: 2\n"
     ]
    }
   ],
   "source": [
    "alien_0 = {'x_position': 0, 'y_position': 25, 'speed': 'medium'}\n",
    "print(f\"Original position: {alien_0['x_position']}\")\n",
    "# Move the alien to the right.\n",
    "# Determine how far to move the alien based on its current speed. 1 \n",
    "\n",
    "if alien_0['speed'] == 'slow':\n",
    "    x_increment = 1\n",
    "elif alien_0['speed'] == 'medium':\n",
    "    x_increment = 2\n",
    "else:\n",
    "    # This must be a fast alien.\n",
    "    x_increment = 3\n",
    "# The new position is the old position plus the increment. 2\n",
    "alien_0['x_position'] +=  x_increment\n",
    "print(f\"New position: {alien_0['x_position']}\")"
   ]
  },
  {
   "cell_type": "code",
   "execution_count": 60,
   "metadata": {},
   "outputs": [
    {
     "name": "stdout",
     "output_type": "stream",
     "text": [
      "Original position: 0\n",
      "New position: 3\n"
     ]
    }
   ],
   "source": [
    "alien_0 = {'x_position': 0, 'y_position': 25, 'speed': 'medium'}\n",
    "print(f\"Original position: {alien_0['x_position']}\")\n",
    "# Move the alien to the right.\n",
    "# Determine how far to move the alien based on its current speed. 1 \n",
    "alien_0['speed'] = 'fast'\n",
    "if alien_0['speed'] == 'slow':\n",
    "    x_increment = 1\n",
    "elif alien_0['speed'] == 'medium':\n",
    "    x_increment = 2\n",
    "else:\n",
    "    # This must be a fast alien.\n",
    "    x_increment = 3\n",
    "# The new position is the old position plus the increment. 2\n",
    "alien_0['x_position'] +=  x_increment\n",
    "print(f\"New position: {alien_0['x_position']}\")"
   ]
  },
  {
   "cell_type": "code",
   "execution_count": 61,
   "metadata": {},
   "outputs": [
    {
     "data": {
      "text/plain": [
       "{'Name': 'Mohammad Abbas', 'Education': 'BSCS', 'Gender': 'Male'}"
      ]
     },
     "execution_count": 61,
     "metadata": {},
     "output_type": "execute_result"
    }
   ],
   "source": [
    "from typing import Dict, Union, Optional\n",
    "import pprint\n",
    "\n",
    "\n",
    "Key = Union[int,str] # create custom type\n",
    "Value = Union[int, str, list, dict, tuple, set]\n",
    "\n",
    "data : Dict[Key,Value] = {\n",
    "                        'Name': 'M.Abbas', \n",
    "                        'Education': 'BSCS',\n",
    "                        'Gender': 'Male',\n",
    "                        'Name': 'Mohammad Abbas' # updates the previous key \"Name\"\n",
    "                        }\n",
    "data\n",
    "\n"
   ]
  },
  {
   "cell_type": "code",
   "execution_count": 62,
   "metadata": {},
   "outputs": [
    {
     "name": "stdout",
     "output_type": "stream",
     "text": [
      "Sarah's favorite language is Python.\n"
     ]
    }
   ],
   "source": [
    "favorite_languages = {\n",
    "      'jen': 'python',\n",
    "      'sarah': 'c',\n",
    "      'edward': 'rust',\n",
    "      'phil': 'python',\n",
    "      }\n",
    "language = favorite_languages['jen'].title() \n",
    "print(f\"Sarah's favorite language is {language}.\")"
   ]
  },
  {
   "cell_type": "code",
   "execution_count": 63,
   "metadata": {},
   "outputs": [
    {
     "name": "stdout",
     "output_type": "stream",
     "text": [
      "Hi Jen.\n",
      "Hi Sarah.\n",
      "\tSarah, I see you love C!\n",
      "Hi Edward.\n",
      "Hi Phil.\n",
      "\tPhil, I see you love Python!\n"
     ]
    }
   ],
   "source": [
    "favorite_languages = {\n",
    "      'jen': 'python',\n",
    "      'sarah': 'c',\n",
    "      'edward': 'rust',\n",
    "      'phil': 'python',\n",
    "      }\n",
    "\n",
    "friends = ['phil', 'sarah']\n",
    "for name in favorite_languages.keys():\n",
    "    print(f\"Hi {name.title()}.\")\n",
    "    if name in friends:\n",
    "        language = favorite_languages[name].title()\n",
    "        print(f\"\\t{name.title()}, I see you love {language}!\")"
   ]
  },
  {
   "cell_type": "code",
   "execution_count": 64,
   "metadata": {},
   "outputs": [
    {
     "name": "stdout",
     "output_type": "stream",
     "text": [
      "True\n",
      "dict_keys(['jen', 'sarah', 'edward', 'phil'])\n"
     ]
    }
   ],
   "source": [
    "print('erin' not in favorite_languages.keys())\n",
    "print(favorite_languages.keys())"
   ]
  },
  {
   "cell_type": "code",
   "execution_count": 65,
   "metadata": {},
   "outputs": [
    {
     "data": {
      "text/plain": [
       "True"
      ]
     },
     "execution_count": 65,
     "metadata": {},
     "output_type": "execute_result"
    }
   ],
   "source": [
    "\"Abbas\" in \"\"\"My Name is Mohammad Abbas, I'm learning in PIAIC!\"\"\""
   ]
  },
  {
   "cell_type": "code",
   "execution_count": 66,
   "metadata": {},
   "outputs": [
    {
     "name": "stdout",
     "output_type": "stream",
     "text": [
      "Erin, please take our poll!\n"
     ]
    }
   ],
   "source": [
    "if 'erin' not in favorite_languages.keys():\n",
    "    print(\"Erin, please take our poll!\")"
   ]
  },
  {
   "cell_type": "code",
   "execution_count": 67,
   "metadata": {},
   "outputs": [
    {
     "name": "stdout",
     "output_type": "stream",
     "text": [
      "{'color': 'green', 'points': 5}\n",
      "{'color': 'yellow', 'points': 10}\n",
      "{'color': 'red', 'points': 15}\n"
     ]
    }
   ],
   "source": [
    "alien_0: list[Key, Value] = {'color': 'green', 'points': 5}\n",
    "alien_1: list[Key, Value] = {'color': 'yellow', 'points': 10}\n",
    "alien_2: list[Key, Value] = {'color': 'red', 'points': 15}\n",
    "\n",
    "aliens:list[Dict[str,str]] = [alien_0, alien_1, alien_2]\n",
    "for alien in aliens:\n",
    "    print(alien)"
   ]
  },
  {
   "cell_type": "code",
   "execution_count": 68,
   "metadata": {},
   "outputs": [
    {
     "name": "stdout",
     "output_type": "stream",
     "text": [
      "[]\n",
      "[{'color': 'green', 'points': 5, 'speed': 'slow'},\n",
      " {'color': 'green', 'points': 5, 'speed': 'slow'},\n",
      " {'color': 'green', 'points': 5, 'speed': 'slow'},\n",
      " {'color': 'green', 'points': 5, 'speed': 'slow'},\n",
      " {'color': 'green', 'points': 5, 'speed': 'slow'},\n",
      " {'color': 'green', 'points': 5, 'speed': 'slow'},\n",
      " {'color': 'green', 'points': 5, 'speed': 'slow'},\n",
      " {'color': 'green', 'points': 5, 'speed': 'slow'},\n",
      " {'color': 'green', 'points': 5, 'speed': 'slow'},\n",
      " {'color': 'green', 'points': 5, 'speed': 'slow'},\n",
      " {'color': 'green', 'points': 5, 'speed': 'slow'},\n",
      " {'color': 'green', 'points': 5, 'speed': 'slow'},\n",
      " {'color': 'green', 'points': 5, 'speed': 'slow'},\n",
      " {'color': 'green', 'points': 5, 'speed': 'slow'},\n",
      " {'color': 'green', 'points': 5, 'speed': 'slow'},\n",
      " {'color': 'green', 'points': 5, 'speed': 'slow'},\n",
      " {'color': 'green', 'points': 5, 'speed': 'slow'},\n",
      " {'color': 'green', 'points': 5, 'speed': 'slow'},\n",
      " {'color': 'green', 'points': 5, 'speed': 'slow'},\n",
      " {'color': 'green', 'points': 5, 'speed': 'slow'},\n",
      " {'color': 'green', 'points': 5, 'speed': 'slow'},\n",
      " {'color': 'green', 'points': 5, 'speed': 'slow'},\n",
      " {'color': 'green', 'points': 5, 'speed': 'slow'},\n",
      " {'color': 'green', 'points': 5, 'speed': 'slow'},\n",
      " {'color': 'green', 'points': 5, 'speed': 'slow'},\n",
      " {'color': 'green', 'points': 5, 'speed': 'slow'},\n",
      " {'color': 'green', 'points': 5, 'speed': 'slow'},\n",
      " {'color': 'green', 'points': 5, 'speed': 'slow'},\n",
      " {'color': 'green', 'points': 5, 'speed': 'slow'},\n",
      " {'color': 'green', 'points': 5, 'speed': 'slow'}]\n"
     ]
    }
   ],
   "source": [
    "# Make an empty list for storing aliens.\n",
    "aliens : list[Dict[str,str]] = []\n",
    "import pprint\n",
    "print(aliens)\n",
    "# Make 30 green aliens.\n",
    "for alien_number in range(30):\n",
    "    new_alien = {'color': 'green', 'points': 5, 'speed': 'slow'}\n",
    "    aliens.append(new_alien)\n",
    "pprint.pprint(aliens)"
   ]
  },
  {
   "cell_type": "code",
   "execution_count": 69,
   "metadata": {},
   "outputs": [
    {
     "name": "stdout",
     "output_type": "stream",
     "text": [
      "[{'color': 'green', 'points': 5, 'speed': 'slow'},\n",
      " {'color': 'green', 'points': 5, 'speed': 'slow'},\n",
      " {'color': 'green', 'points': 5, 'speed': 'slow'},\n",
      " {'color': 'green', 'points': 5, 'speed': 'slow'},\n",
      " {'color': 'green', 'points': 5, 'speed': 'slow'}]\n"
     ]
    }
   ],
   "source": [
    "pprint.pprint(aliens[:5])"
   ]
  },
  {
   "cell_type": "code",
   "execution_count": 70,
   "metadata": {},
   "outputs": [
    {
     "data": {
      "text/plain": [
       "[{'color': 'yellow', 'points': 10, 'speed': 'medium'},\n",
       " {'color': 'yellow', 'points': 10, 'speed': 'medium'},\n",
       " {'color': 'yellow', 'points': 10, 'speed': 'medium'},\n",
       " {'color': 'green', 'points': 5, 'speed': 'slow'},\n",
       " {'color': 'green', 'points': 5, 'speed': 'slow'},\n",
       " {'color': 'green', 'points': 5, 'speed': 'slow'},\n",
       " {'color': 'green', 'points': 5, 'speed': 'slow'},\n",
       " {'color': 'green', 'points': 5, 'speed': 'slow'},\n",
       " {'color': 'green', 'points': 5, 'speed': 'slow'},\n",
       " {'color': 'green', 'points': 5, 'speed': 'slow'}]"
      ]
     },
     "execution_count": 70,
     "metadata": {},
     "output_type": "execute_result"
    }
   ],
   "source": [
    "for alien in aliens[:3]:\n",
    "    if alien['color'] == 'green':\n",
    "        alien['color'] = 'yellow'\n",
    "        alien['speed'] = 'medium'\n",
    "        alien['points'] = 10\n",
    "\n",
    "aliens[:10]"
   ]
  },
  {
   "cell_type": "code",
   "execution_count": 71,
   "metadata": {},
   "outputs": [
    {
     "data": {
      "text/plain": [
       "[{'color': 'red', 'points': 15, 'speed': 'fast'},\n",
       " {'color': 'red', 'points': 15, 'speed': 'fast'},\n",
       " {'color': 'red', 'points': 15, 'speed': 'fast'},\n",
       " {'color': 'green', 'points': 5, 'speed': 'slow'},\n",
       " {'color': 'green', 'points': 5, 'speed': 'slow'},\n",
       " {'color': 'green', 'points': 5, 'speed': 'slow'},\n",
       " {'color': 'green', 'points': 5, 'speed': 'slow'},\n",
       " {'color': 'green', 'points': 5, 'speed': 'slow'},\n",
       " {'color': 'green', 'points': 5, 'speed': 'slow'},\n",
       " {'color': 'green', 'points': 5, 'speed': 'slow'},\n",
       " {'color': 'green', 'points': 5, 'speed': 'slow'},\n",
       " {'color': 'green', 'points': 5, 'speed': 'slow'},\n",
       " {'color': 'green', 'points': 5, 'speed': 'slow'},\n",
       " {'color': 'green', 'points': 5, 'speed': 'slow'},\n",
       " {'color': 'green', 'points': 5, 'speed': 'slow'},\n",
       " {'color': 'green', 'points': 5, 'speed': 'slow'},\n",
       " {'color': 'green', 'points': 5, 'speed': 'slow'},\n",
       " {'color': 'green', 'points': 5, 'speed': 'slow'},\n",
       " {'color': 'green', 'points': 5, 'speed': 'slow'},\n",
       " {'color': 'green', 'points': 5, 'speed': 'slow'},\n",
       " {'color': 'green', 'points': 5, 'speed': 'slow'},\n",
       " {'color': 'green', 'points': 5, 'speed': 'slow'},\n",
       " {'color': 'green', 'points': 5, 'speed': 'slow'},\n",
       " {'color': 'green', 'points': 5, 'speed': 'slow'},\n",
       " {'color': 'green', 'points': 5, 'speed': 'slow'},\n",
       " {'color': 'green', 'points': 5, 'speed': 'slow'},\n",
       " {'color': 'green', 'points': 5, 'speed': 'slow'},\n",
       " {'color': 'green', 'points': 5, 'speed': 'slow'},\n",
       " {'color': 'green', 'points': 5, 'speed': 'slow'},\n",
       " {'color': 'green', 'points': 5, 'speed': 'slow'}]"
      ]
     },
     "execution_count": 71,
     "metadata": {},
     "output_type": "execute_result"
    }
   ],
   "source": [
    "for alien in aliens[0:3]:\n",
    "    if alien['color'] == 'green':\n",
    "        alien['color'] = 'yellow'\n",
    "        alien['speed'] = 'medium'\n",
    "        alien['points'] = 10\n",
    "    elif alien['color'] == 'yellow':\n",
    "        alien['color'] = 'red'\n",
    "        alien['speed'] = 'fast'\n",
    "        alien['points'] = 15\n",
    "        \n",
    "aliens"
   ]
  },
  {
   "cell_type": "code",
   "execution_count": 72,
   "metadata": {},
   "outputs": [
    {
     "name": "stdout",
     "output_type": "stream",
     "text": [
      "{'Name': 'Mohammad Abbas', 'Education': 'BSCS', 'Gender': 'Male'}\n",
      "<class 'dict'>\n"
     ]
    }
   ],
   "source": [
    "Key = Union[int,str] # create custom type\n",
    "Value = Union[int, str, list, dict, tuple, set]\n",
    "\n",
    "data : Dict[Key,Value] = {\n",
    "                        'Name': 'M.Abbas', \n",
    "                        'Education': 'BSCS',\n",
    "                        'Gender': 'Male',\n",
    "                        'Name': 'Mohammad Abbas' # updates the previous key \"Name\"\n",
    "                        }\n",
    "print(data)\n",
    "print(type(data))\n"
   ]
  },
  {
   "cell_type": "code",
   "execution_count": 73,
   "metadata": {},
   "outputs": [
    {
     "name": "stdout",
     "output_type": "stream",
     "text": [
      "<class 'str'>\n"
     ]
    },
    {
     "data": {
      "text/plain": [
       "'{\\n    \"Name\": \"Mohammad Abbas\",\\n    \"Education\": \"BSCS\",\\n    \"Gender\": \"Male\"\\n}'"
      ]
     },
     "metadata": {},
     "output_type": "display_data"
    },
    {
     "name": "stdout",
     "output_type": "stream",
     "text": [
      "{\n",
      "    \"Name\": \"Mohammad Abbas\",\n",
      "    \"Education\": \"BSCS\",\n",
      "    \"Gender\": \"Male\"\n",
      "}\n"
     ]
    }
   ],
   "source": [
    "import json\n",
    "\n",
    "data1  = json.dumps(data, indent=4)\n",
    "\n",
    "print(type(data1))\n",
    "display(data1)\n",
    "print(data1)"
   ]
  }
 ],
 "metadata": {
  "kernelspec": {
   "display_name": "python12",
   "language": "python",
   "name": "python3"
  },
  "language_info": {
   "codemirror_mode": {
    "name": "ipython",
    "version": 3
   },
   "file_extension": ".py",
   "mimetype": "text/x-python",
   "name": "python",
   "nbconvert_exporter": "python",
   "pygments_lexer": "ipython3",
   "version": "3.12.0"
  }
 },
 "nbformat": 4,
 "nbformat_minor": 2
}
